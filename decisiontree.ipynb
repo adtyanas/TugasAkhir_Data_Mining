{
  "nbformat": 4,
  "nbformat_minor": 0,
  "metadata": {
    "colab": {
      "name": "decisiontree.ipynb",
      "provenance": []
    },
    "kernelspec": {
      "name": "python3",
      "display_name": "Python 3"
    },
    "language_info": {
      "name": "python"
    }
  },
  "cells": [
    {
      "cell_type": "code",
      "metadata": {
        "colab": {
          "base_uri": "https://localhost:8080/"
        },
        "id": "wC9JPSsdCurz",
        "outputId": "2f6b2b10-d8ce-4815-8bc8-74a785f7745e"
      },
      "source": [
        "import numpy as np\n",
        "import pandas as pd\n",
        "from sklearn import tree\n",
        "\n",
        "irisDataset = pd.read_csv('transfusion.csv',\n",
        "                          delimiter=',', header=0)\n",
        "\n",
        "irisDataset[\"Donated\"] = pd.factorize(irisDataset.Donated)[0]\n",
        "\n",
        "irisDataset = irisDataset.drop(labels=\"Id\", axis=1)\n",
        "\n",
        "irisDataset = irisDataset.to_numpy()\n",
        "\n",
        "dataTraining = np.concatenate((irisDataset[0:300,:],\n",
        "                               irisDataset[374:700,:]), axis=0)\n",
        "dataTesting = np.concatenate((irisDataset[300:374,:],\n",
        "                               irisDataset[700:748,:]), axis=0)\n",
        "\n",
        "inputTraining = dataTraining[:,0:4]\n",
        "inputTesting = dataTesting[:,0:4]\n",
        "labelTraining = dataTraining[:,4]\n",
        "labelTesting = dataTesting[:,4]\n",
        "\n",
        "model = tree.DecisionTreeClassifier()\n",
        "\n",
        "model = model.fit(inputTraining, labelTraining)\n",
        "\n",
        "hasilPrediksi = model.predict(inputTesting)\n",
        "print(\"label sebenarnya \",labelTesting)\n",
        "print(\"hasil prediksi \",hasilPrediksi)\n",
        "\n",
        "prediksiBenar = (hasilPrediksi == labelTesting).sum()\n",
        "prediksiSalah = (hasilPrediksi != labelTesting).sum()\n",
        "print(\"prediksi benar: \", prediksiBenar, \" data\")\n",
        "print(\"prediksi salah: \", prediksiSalah, \" data\")\n",
        "print(\"akurasi: \", prediksiBenar/(prediksiBenar+prediksiSalah) * 100, \"%\")"
      ],
      "execution_count": 18,
      "outputs": [
        {
          "output_type": "stream",
          "text": [
            "label sebenarnya  [1 1 1 1 1 0 1 1 1 1 1 1 1 1 1 1 1 1 0 1 1 0 1 0 1 1 1 1 0 1 1 1 0 0 1 0 1\n",
            " 1 0 1 1 1 1 1 1 1 1 1 1 1 1 1 1 1 1 1 1 1 1 1 1 1 1 1 1 0 1 1 1 0 0 1 1 1\n",
            " 1 1 1 1 1 1 1 1 0 1 1 1 0 1 1 1 1 1 1 1 1 1 1 1 1 1 1 1 1 1 1 1 0 1 1 1 1\n",
            " 1 1 1 1 1 1 1 1 1 1 1]\n",
            "hasil prediksi  [1 1 1 0 1 1 1 1 0 0 1 0 1 1 1 1 0 1 0 1 1 1 1 1 1 1 1 1 0 1 1 1 1 1 1 1 1\n",
            " 1 1 1 0 1 1 1 1 1 1 1 1 1 1 1 1 1 1 1 1 1 1 1 1 1 1 1 1 0 1 1 1 1 1 1 1 1\n",
            " 1 1 1 1 1 1 1 1 1 1 1 1 1 1 1 1 1 1 1 1 1 1 1 1 1 1 0 1 1 1 1 1 1 1 1 1 1\n",
            " 1 1 1 1 1 1 1 1 1 1 1]\n",
            "prediksi benar:  103  data\n",
            "prediksi salah:  19  data\n",
            "akurasi:  84.42622950819673 %\n"
          ],
          "name": "stdout"
        }
      ]
    }
  ]
}